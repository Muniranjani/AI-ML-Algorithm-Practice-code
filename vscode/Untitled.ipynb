{
 "cells": [
  {
   "cell_type": "code",
   "execution_count": 1,
   "id": "49da858c",
   "metadata": {},
   "outputs": [
    {
     "name": "stdout",
     "output_type": "stream",
     "text": [
      "Frequency Distribution Table:\n",
      "1    2\n",
      "2    6\n",
      "3    2\n",
      "4    4\n",
      "Name: count, dtype: int64\n"
     ]
    },
    {
     "data": {
      "image/png": "[encoded data removed]",
      "text/plain": [
       "<Figure size 640x480 with 1 Axes>"
      ]
     },
     "metadata": {},
     "output_type": "display_data"
    }
   ],
   "source": [
    "import pandas as pd\n",
    "import seaborn as sns\n",
    "import matplotlib.pyplot as plt\n",
    "\n",
    "# Step 1: Initialize Environment\n",
    "# (already imported matplotlib.pyplot, pandas, and seaborn)\n",
    "\n",
    "# Step 2: Data Preparation\n",
    "data = [2, 3, 1, 4, 2, 2, 3, 1, 4, 4, 4, 2, 2, 2]\n",
    "\n",
    "# Step 3: Frequency Distribution Table\n",
    "frequency_table = pd.Series(data).value_counts().sort_index()\n",
    "print(\"Frequency Distribution Table:\")\n",
    "print(frequency_table)\n",
    "\n",
    "# Step 4: Frequency Distribution Curve\n",
    "sns.histplot(data, kde=True, bins=range(1, 6), discrete=True)\n",
    "\n",
    "# Step 5: Display Results\n",
    "plt.title('Frequency Distribution Curve')\n",
    "plt.xlabel('Data Values')\n",
    "plt.ylabel('Frequency')\n",
    "plt.show()\n"
   ]
  },
  {
   "cell_type": "code",
   "execution_count": 2,
   "id": "3850a700",
   "metadata": {},
   "outputs": [
    {
     "name": "stdout",
     "output_type": "stream",
     "text": [
      "Filtered DataFrame where attempts are greater than 2:\n",
      "   name  attempts  score\n",
      "1   Bob         3     62\n",
      "3  Dave         4     90\n",
      "4   Eva         5     66\n"
     ]
    }
   ],
   "source": [
    "import pandas as pd\n",
    "\n",
    "# Step 1: Initialize Environment\n",
    "# (already imported pandas)\n",
    "\n",
    "# Step 2: Data Preparation\n",
    "data = {\n",
    "    'name': ['Alice', 'Bob', 'Carol', 'Dave', 'Eva'],\n",
    "    'attempts': [1, 3, 2, 4, 5],\n",
    "    'score': [85, 62, 78, 90, 66]\n",
    "}\n",
    "\n",
    "df = pd.DataFrame(data)\n",
    "\n",
    "# Step 3: Filtering Data\n",
    "filtered_df = df[df['attempts'] > 2]\n",
    "\n",
    "# Step 4: Display Results\n",
    "print(\"Filtered DataFrame where attempts are greater than 2:\")\n",
    "print(filtered_df)\n"
   ]
  },
  {
   "cell_type": "code",
   "execution_count": 3,
   "id": "b7475310",
   "metadata": {},
   "outputs": [
    {
     "ename": "AttributeError",
     "evalue": "'DataFrame' object has no attribute 'append'",
     "output_type": "error",
     "traceback": [
      "\u001b[1;31m---------------------------------------------------------------------------\u001b[0m",
      "\u001b[1;31mAttributeError\u001b[0m                            Traceback (most recent call last)",
      "\u001b[1;32m~\\AppData\\Local\\Temp\\ipykernel_19516\\2114909728.py\u001b[0m in \u001b[0;36m?\u001b[1;34m()\u001b[0m\n\u001b[0;32m     13\u001b[0m \u001b[0mdf\u001b[0m \u001b[1;33m=\u001b[0m \u001b[0mpd\u001b[0m\u001b[1;33m.\u001b[0m\u001b[0mDataFrame\u001b[0m\u001b[1;33m(\u001b[0m\u001b[0mdata\u001b[0m\u001b[1;33m)\u001b[0m\u001b[1;33m\u001b[0m\u001b[1;33m\u001b[0m\u001b[0m\n\u001b[0;32m     14\u001b[0m \u001b[1;33m\u001b[0m\u001b[0m\n\u001b[0;32m     15\u001b[0m \u001b[1;31m# Step 3: Append New Row\u001b[0m\u001b[1;33m\u001b[0m\u001b[1;33m\u001b[0m\u001b[0m\n\u001b[0;32m     16\u001b[0m \u001b[0mnew_row\u001b[0m \u001b[1;33m=\u001b[0m \u001b[0mpd\u001b[0m\u001b[1;33m.\u001b[0m\u001b[0mDataFrame\u001b[0m\u001b[1;33m(\u001b[0m\u001b[1;33m{\u001b[0m\u001b[1;34m'name'\u001b[0m\u001b[1;33m:\u001b[0m \u001b[1;33m[\u001b[0m\u001b[1;34m'Kate'\u001b[0m\u001b[1;33m]\u001b[0m\u001b[1;33m,\u001b[0m \u001b[1;34m'attempts'\u001b[0m\u001b[1;33m:\u001b[0m \u001b[1;33m[\u001b[0m\u001b[1;36m2\u001b[0m\u001b[1;33m]\u001b[0m\u001b[1;33m,\u001b[0m \u001b[1;34m'score'\u001b[0m\u001b[1;33m:\u001b[0m \u001b[1;33m[\u001b[0m\u001b[1;36m88\u001b[0m\u001b[1;33m]\u001b[0m\u001b[1;33m}\u001b[0m\u001b[1;33m)\u001b[0m\u001b[1;33m\u001b[0m\u001b[1;33m\u001b[0m\u001b[0m\n\u001b[1;32m---> 17\u001b[1;33m \u001b[0mdf_with_new_row\u001b[0m \u001b[1;33m=\u001b[0m \u001b[0mdf\u001b[0m\u001b[1;33m.\u001b[0m\u001b[0mappend\u001b[0m\u001b[1;33m(\u001b[0m\u001b[0mnew_row\u001b[0m\u001b[1;33m,\u001b[0m \u001b[0mignore_index\u001b[0m\u001b[1;33m=\u001b[0m\u001b[1;32mTrue\u001b[0m\u001b[1;33m)\u001b[0m\u001b[1;33m\u001b[0m\u001b[1;33m\u001b[0m\u001b[0m\n\u001b[0m\u001b[0;32m     18\u001b[0m \u001b[1;33m\u001b[0m\u001b[0m\n\u001b[0;32m     19\u001b[0m \u001b[0mprint\u001b[0m\u001b[1;33m(\u001b[0m\u001b[1;34m\"DataFrame after adding new row 'Kate':\"\u001b[0m\u001b[1;33m)\u001b[0m\u001b[1;33m\u001b[0m\u001b[1;33m\u001b[0m\u001b[0m\n\u001b[0;32m     20\u001b[0m \u001b[0mprint\u001b[0m\u001b[1;33m(\u001b[0m\u001b[0mdf_with_new_row\u001b[0m\u001b[1;33m)\u001b[0m\u001b[1;33m\u001b[0m\u001b[1;33m\u001b[0m\u001b[0m\n",
      "\u001b[1;32m~\\anaconda3\\Lib\\site-packages\\pandas\\core\\generic.py\u001b[0m in \u001b[0;36m?\u001b[1;34m(self, name)\u001b[0m\n\u001b[0;32m   5985\u001b[0m             \u001b[1;32mand\u001b[0m \u001b[0mname\u001b[0m \u001b[1;32mnot\u001b[0m \u001b[1;32min\u001b[0m \u001b[0mself\u001b[0m\u001b[1;33m.\u001b[0m\u001b[0m_accessors\u001b[0m\u001b[1;33m\u001b[0m\u001b[1;33m\u001b[0m\u001b[0m\n\u001b[0;32m   5986\u001b[0m             \u001b[1;32mand\u001b[0m \u001b[0mself\u001b[0m\u001b[1;33m.\u001b[0m\u001b[0m_info_axis\u001b[0m\u001b[1;33m.\u001b[0m\u001b[0m_can_hold_identifiers_and_holds_name\u001b[0m\u001b[1;33m(\u001b[0m\u001b[0mname\u001b[0m\u001b[1;33m)\u001b[0m\u001b[1;33m\u001b[0m\u001b[1;33m\u001b[0m\u001b[0m\n\u001b[0;32m   5987\u001b[0m         ):\n\u001b[0;32m   5988\u001b[0m             \u001b[1;32mreturn\u001b[0m \u001b[0mself\u001b[0m\u001b[1;33m[\u001b[0m\u001b[0mname\u001b[0m\u001b[1;33m]\u001b[0m\u001b[1;33m\u001b[0m\u001b[1;33m\u001b[0m\u001b[0m\n\u001b[1;32m-> 5989\u001b[1;33m         \u001b[1;32mreturn\u001b[0m \u001b[0mobject\u001b[0m\u001b[1;33m.\u001b[0m\u001b[0m__getattribute__\u001b[0m\u001b[1;33m(\u001b[0m\u001b[0mself\u001b[0m\u001b[1;33m,\u001b[0m \u001b[0mname\u001b[0m\u001b[1;33m)\u001b[0m\u001b[1;33m\u001b[0m\u001b[1;33m\u001b[0m\u001b[0m\n\u001b[0m",
      "\u001b[1;31mAttributeError\u001b[0m: 'DataFrame' object has no attribute 'append'"
     ]
    }
   ],
   "source": [
    "import pandas as pd\n",
    "\n",
    "# Step 1: Initialize Environment\n",
    "# (already imported pandas)\n",
    "\n",
    "# Step 2: Data Preparation\n",
    "data = {\n",
    "    'name': ['Alice', 'Bob', 'Carol', 'Dave', 'Eva'],\n",
    "    'attempts': [1, 3, 2, 4, 5],\n",
    "    'score': [85, 62, 78, 90, 66]\n",
    "}\n",
    "\n",
    "df = pd.DataFrame(data)\n",
    "\n",
    "# Step 3: Append New Row\n",
    "new_row = pd.DataFrame({'name': ['Kate'], 'attempts': [2], 'score': [88]})\n",
    "df_with_new_row = df.append(new_row, ignore_index=True)\n",
    "\n",
    "print(\"DataFrame after adding new row 'Kate':\")\n",
    "print(df_with_new_row)\n",
    "\n",
    "# Step 4: Delete New Row\n",
    "df_original = df_with_new_row[df_with_new_row['name'] != 'Kate']\n",
    "\n",
    "# Step 5: Display Results\n",
    "print(\"\\nOriginal DataFrame after deleting new row 'Kate':\")\n",
    "print(df_original)\n"
   ]
  },
  {
   "cell_type": "code",
   "execution_count": 4,
   "id": "b659e8ed",
   "metadata": {},
   "outputs": [
    {
     "name": "stdout",
     "output_type": "stream",
     "text": [
      "DataFrame after adding new row 'Kate':\n",
      "    name  attempts  score\n",
      "0  Alice         1     85\n",
      "1    Bob         3     62\n",
      "2  Carol         2     78\n",
      "3   Dave         4     90\n",
      "4    Eva         5     66\n",
      "5   Kate         2     88\n",
      "\n",
      "Original DataFrame after deleting new row 'Kate':\n",
      "    name  attempts  score\n",
      "0  Alice         1     85\n",
      "1    Bob         3     62\n",
      "2  Carol         2     78\n",
      "3   Dave         4     90\n",
      "4    Eva         5     66\n"
     ]
    }
   ],
   "source": [
    "import pandas as pd\n",
    "\n",
    "# Step 1: Initialize Environment\n",
    "# (already imported pandas)\n",
    "\n",
    "# Step 2: Data Preparation\n",
    "data = {\n",
    "    'name': ['Alice', 'Bob', 'Carol', 'Dave', 'Eva'],\n",
    "    'attempts': [1, 3, 2, 4, 5],\n",
    "    'score': [85, 62, 78, 90, 66]\n",
    "}\n",
    "\n",
    "df = pd.DataFrame(data)\n",
    "\n",
    "# Step 3: Append New Row\n",
    "new_row = pd.DataFrame({'name': ['Kate'], 'attempts': [2], 'score': [88]})\n",
    "df_with_new_row = pd.concat([df, new_row], ignore_index=True)\n",
    "\n",
    "print(\"DataFrame after adding new row 'Kate':\")\n",
    "print(df_with_new_row)\n",
    "\n",
    "# Step 4: Delete New Row\n",
    "df_original = df_with_new_row[df_with_new_row['name'] != 'Kate']\n",
    "\n",
    "# Step 5: Display Results\n",
    "print(\"\\nOriginal DataFrame after deleting new row 'Kate':\")\n",
    "print(df_original)\n"
   ]
  },
  {
   "cell_type": "code",
   "execution_count": null,
   "id": "75fec7f9",
   "metadata": {},
   "outputs": [],
   "source": []
  }
 ],
 "metadata": {
  "kernelspec": {
   "display_name": "Python 3 (ipykernel)",
   "language": "python",
   "name": "python3"
  },
  "language_info": {
   "codemirror_mode": {
    "name": "ipython",
    "version": 3
   },
   "file_extension": ".py",
   "mimetype": "text/x-python",
   "name": "python",
   "nbconvert_exporter": "python",
   "pygments_lexer": "ipython3",
   "version": "3.11.5"
  }
 },
 "nbformat": 4,
 "nbformat_minor": 5
}
